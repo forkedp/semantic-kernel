{
 "cells": [
  {
   "attachments": {},
   "cell_type": "markdown",
   "id": "692e361b",
   "metadata": {},
   "source": [
    "# How to run a semantic skills from file\n",
    "Now that you're familiar with Kernel basics, let's see how the kernel allows you to run Semantic Skills and Semantic Functions stored on disk. \n",
    "\n",
    "A Semantic Skill is a collection of Semantic Functions, where each function is defined with natural language that can be provided with a text file. \n",
    "\n",
    "Refer to our [glossary](https://github.com/microsoft/semantic-kernel/blob/main/docs/GLOSSARY.md) for an in-depth guide to the terms.\n",
    "\n",
    "The repository includes some examples under the [samples](https://github.com/microsoft/semantic-kernel/tree/main/samples) folder.\n",
    "\n",
    "For instance, [this](../../skills/FunSkill/Joke/skprompt.txt) is the **Joke function** part of the **FunSkill skill**:"
   ]
  },
  {
   "attachments": {},
   "cell_type": "markdown",
   "id": "f3ce1efe",
   "metadata": {},
   "source": [
    "```\n",
    "WRITE EXACTLY ONE JOKE or HUMOROUS STORY ABOUT THE TOPIC BELOW.\n",
    "JOKE MUST BE:\n",
    "- G RATED\n",
    "- WORKPLACE/FAMILY SAFE\n",
    "NO SEXISM, RACISM OR OTHER BIAS/BIGOTRY.\n",
    "BE CREATIVE AND FUNNY. I WANT TO LAUGH.\n",
    "+++++\n",
    "{{$input}}\n",
    "+++++\n",
    "```"
   ]
  },
  {
   "attachments": {},
   "cell_type": "markdown",
   "id": "afdb96d6",
   "metadata": {},
   "source": [
    "Note the special **`{{$input}}`** token, which is a variable that is automatically passed when invoking the function, commonly referred to as a \"function parameter\". \n",
    "\n",
    "We'll explore later how functions can accept multiple variables, as well as invoke other functions."
   ]
  },
  {
   "attachments": {},
   "cell_type": "markdown",
   "id": "c3bd5134",
   "metadata": {},
   "source": [
    "\n",
    "In the same folder you'll notice a second [config.json](../../skills/FunSkill/Joke/config.json) file. The file is optional, and is used to set some parameters for large language models like Temperature, TopP, Stop Sequences, etc.\n",
    "\n",
    "```\n",
    "{\n",
    "  \"schema\": 1,\n",
    "  \"type\": \"completion\",\n",
    "  \"description\": \"Generate a funny joke\",\n",
    "  \"completion\": {\n",
    "    \"max_tokens\": 500,\n",
    "    \"temperature\": 0.5,\n",
    "    \"top_p\": 0.5\n",
    "  }\n",
    "}\n",
    "```"
   ]
  },
  {
   "attachments": {},
   "cell_type": "markdown",
   "id": "384ff07f",
   "metadata": {},
   "source": [
    "Given a semantic function defined by these files, this is how to load and use a file based semantic function.\n",
    "\n",
    "Load and configure the kernel, as usual, loading also the AI service settings defined in the [Setup notebook](00-getting-started.ipynb):"
   ]
  },
  {
   "cell_type": "code",
   "execution_count": null,
   "id": "365cfc01",
   "metadata": {},
   "outputs": [],
   "source": [
    "# !python -m pip install semantic-kernel==0.4.3.dev0"
   ]
  },
  {
   "cell_type": "code",
   "execution_count": 1,
   "id": "b0062a24",
   "metadata": {},
   "outputs": [],
   "source": [
    "import semantic_kernel as sk\n",
    "from semantic_kernel.connectors.ai.open_ai import AzureChatCompletion, OpenAIChatCompletion\n",
    "\n",
    "kernel = sk.Kernel()\n",
    "\n",
    "useAzureOpenAI = True\n",
    "\n",
    "# Configure AI service used by the kernel\n",
    "if useAzureOpenAI:\n",
    "    deployment, api_key, endpoint = sk.azure_openai_settings_from_dot_env()\n",
    "    azure_chat_service = AzureChatCompletion(deployment_name=deployment, endpoint=endpoint, api_key=api_key)   # set the deployment name to the value of your chat model\n",
    "    kernel.add_chat_service(\"chat_completion\", azure_chat_service)\n",
    "else:\n",
    "    api_key, org_id = sk.openai_settings_from_dot_env()\n",
    "    oai_chat_service = OpenAIChatCompletion(ai_model_id=\"gpt-3.5-turbo\", api_key=api_key, org_id=org_id)\n",
    "    kernel.add_chat_service(\"chat-gpt\", oai_chat_service)"
   ]
  },
  {
   "attachments": {},
   "cell_type": "markdown",
   "id": "fd5ff1f4",
   "metadata": {},
   "source": [
    "Import the skill and all its functions:"
   ]
  },
  {
   "cell_type": "code",
   "execution_count": 2,
   "id": "56ee184d",
   "metadata": {},
   "outputs": [],
   "source": [
    "# note: using skills from the samples folder\n",
    "skills_directory = \"../../samples/skills\"\n",
    "\n",
    "funFunctions = kernel.import_semantic_skill_from_directory(skills_directory, \"FunSkill\")\n",
    "\n",
    "jokeFunction = funFunctions[\"Joke\"]"
   ]
  },
  {
   "attachments": {},
   "cell_type": "markdown",
   "id": "edd99fa0",
   "metadata": {},
   "source": [
    "How to use the skill functions, e.g. generate a joke about \"*time travel to dinosaur age*\":"
   ]
  },
  {
   "cell_type": "code",
   "execution_count": 11,
   "id": "6effe63b",
   "metadata": {},
   "outputs": [
    {
     "name": "stdout",
     "output_type": "stream",
     "text": [
      "Who's there?\n",
      "Egg.\n",
      "Egg who?\n",
      "Eggcuse me, but do you have any chicken jokes? I'm feeling a little cooped up here!\n"
     ]
    }
   ],
   "source": [
    "context_variables = sk.ContextVariables(variables={\n",
    "    \"input\": \"knock, knock!\",\n",
    "    \"style\": \"chickens\"\n",
    "})\n",
    "result = jokeFunction(variables=context_variables)\n",
    "\n",
    "print(result)\n",
    "\n",
    "# You can also invoke functions asynchronously\n",
    "# result = await jokeFunction.invoke_async(\"time travel to dinosaur age\")\n",
    "# print(result)"
   ]
  },
  {
   "cell_type": "code",
   "execution_count": 14,
   "id": "fd52bfe1",
   "metadata": {},
   "outputs": [
    {
     "name": "stdout",
     "output_type": "stream",
     "text": [
      "{'input': \"Who's there?\\nEgg.\\nEgg who?\\nEggcuse me, but do you have any chicken jokes? I'm feeling a little cooped up here!\", 'style': 'chickens'}\n"
     ]
    }
   ],
   "source": [
    "print(context_variables.variables)"
   ]
  },
  {
   "cell_type": "code",
   "execution_count": 9,
   "id": "f6d77e4e",
   "metadata": {},
   "outputs": [
    {
     "name": "stderr",
     "output_type": "stream",
     "text": [
      "Variable `$style` not found\n"
     ]
    }
   ],
   "source": [
    "result = await jokeFunction.invoke_async(\"knock, knock!\")"
   ]
  },
  {
   "cell_type": "code",
   "execution_count": 10,
   "id": "a6907202",
   "metadata": {},
   "outputs": [
    {
     "name": "stdout",
     "output_type": "stream",
     "text": [
      "Who's there, matey?\n",
      "+++++\n",
      "Lettuce.\n",
      "+++++\n",
      "Lettuce who?\n",
      "+++++\n",
      "Lettuce in, it's cold out here and I'm freezing me booty off!\n"
     ]
    }
   ],
   "source": [
    "print(result)"
   ]
  },
  {
   "cell_type": "code",
   "execution_count": 12,
   "id": "98a87f10",
   "metadata": {},
   "outputs": [
    {
     "data": {
      "text/plain": [
       "semantic_kernel.orchestration.sk_function.SKFunction"
      ]
     },
     "execution_count": 12,
     "metadata": {},
     "output_type": "execute_result"
    }
   ],
   "source": [
    "type(jokeFunction)"
   ]
  },
  {
   "cell_type": "code",
   "execution_count": null,
   "id": "599ab396",
   "metadata": {},
   "outputs": [],
   "source": []
  }
 ],
 "metadata": {
  "kernelspec": {
   "display_name": "Python 3 (ipykernel)",
   "language": "python",
   "name": "python3"
  },
  "language_info": {
   "codemirror_mode": {
    "name": "ipython",
    "version": 3
   },
   "file_extension": ".py",
   "mimetype": "text/x-python",
   "name": "python",
   "nbconvert_exporter": "python",
   "pygments_lexer": "ipython3",
   "version": "3.10.11"
  }
 },
 "nbformat": 4,
 "nbformat_minor": 5
}
