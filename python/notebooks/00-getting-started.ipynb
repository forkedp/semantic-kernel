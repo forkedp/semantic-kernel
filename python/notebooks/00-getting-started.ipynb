{
 "cells": [
  {
   "cell_type": "code",
   "execution_count": 1,
   "metadata": {},
   "outputs": [],
   "source": [
    "import semantic_kernel as sk\n",
    "\n",
    "kernel = sk.Kernel()"
   ]
  },
  {
   "cell_type": "code",
   "execution_count": 2,
   "metadata": {},
   "outputs": [
    {
     "data": {
      "text/plain": [
       "<semantic_kernel.kernel.Kernel at 0x212f6cea470>"
      ]
     },
     "execution_count": 2,
     "metadata": {},
     "output_type": "execute_result"
    }
   ],
   "source": [
    "from semantic_kernel.connectors.ai.open_ai import AzureChatCompletion\n",
    "\n",
    "deployment, api_key, endpoint = sk.azure_openai_settings_from_dot_env()\n",
    "\n",
    "kernel.add_chat_service(\"chat_completion\", AzureChatCompletion(deployment_name=deployment, endpoint=endpoint, api_key=api_key))\n"
   ]
  },
  {
   "attachments": {},
   "cell_type": "markdown",
   "metadata": {},
   "source": [
    "# Run a Semantic Function\n",
    "\n",
    "**Step 3**: Load a Skill and run a semantic function:"
   ]
  },
  {
   "cell_type": "code",
   "execution_count": 3,
   "metadata": {},
   "outputs": [],
   "source": [
    "skill = kernel.import_semantic_skill_from_directory(\"../../samples/skills\", \"FunSkill\")\n",
    "joke_function = skill[\"Joke\"]\n",
    "context_variables = sk.ContextVariables(variables={\n",
    "    \"input\": \"chickens\",\n",
    "    \"style\": \"stupid\"\n",
    "})"
   ]
  },
  {
   "cell_type": "code",
   "execution_count": 14,
   "metadata": {},
   "outputs": [
    {
     "name": "stdout",
     "output_type": "stream",
     "text": [
      "Knock, knock!\n",
      "Who's there?\n",
      "Lettuce.\n",
      "Lettuce who?\n",
      "Lettuce in, it's freezing out here!\n"
     ]
    }
   ],
   "source": [
    "# result = joke_function(variables=context_variables)\n",
    "result = joke_function(\"knock, knock!\")\n",
    "print(result)"
   ]
  },
  {
   "cell_type": "code",
   "execution_count": 5,
   "metadata": {},
   "outputs": [
    {
     "name": "stdout",
     "output_type": "stream",
     "text": [
      "Once upon a time, there was a really stupid cat named Fluffy. Fluffy was so dumb that she thought the mouse was her personal trainer. Every day, she would chase the mouse around the house, thinking she was getting a good workout.\n",
      "\n",
      "One day, Fluffy's owner decided to play a prank on her. He put a little bell around the mouse's neck, so every time Fluffy chased it, the bell would jingle. Fluffy, being the genius that she was, thought she had finally caught the mouse and proudly strutted around the house, showing off her \"prize.\"\n",
      "\n",
      "Her owner couldn't help but laugh at Fluffy's stupidity. He said, \"Fluffy, you're the only cat I know who can catch a mouse and still think it's playing hide-and-seek!\"\n",
      "\n",
      "Fluffy just looked at him with a confused expression, not understanding why her owner was laughing. But hey, at least she was getting her exercise, right?\n"
     ]
    }
   ],
   "source": [
    "result = await joke_function.invoke_async(variables=context_variables)\n",
    "print(result)"
   ]
  },
  {
   "cell_type": "code",
   "execution_count": null,
   "metadata": {},
   "outputs": [],
   "source": []
  }
 ],
 "metadata": {
  "kernelspec": {
   "display_name": "Python 3 (ipykernel)",
   "language": "python",
   "name": "python3"
  },
  "language_info": {
   "codemirror_mode": {
    "name": "ipython",
    "version": 3
   },
   "file_extension": ".py",
   "mimetype": "text/x-python",
   "name": "python",
   "nbconvert_exporter": "python",
   "pygments_lexer": "ipython3",
   "version": "3.10.11"
  }
 },
 "nbformat": 4,
 "nbformat_minor": 2
}
