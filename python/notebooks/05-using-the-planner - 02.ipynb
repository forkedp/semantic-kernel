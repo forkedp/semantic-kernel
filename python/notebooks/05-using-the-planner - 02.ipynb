{
 "cells": [
  {
   "cell_type": "markdown",
   "id": "99a80181",
   "metadata": {},
   "source": [
    "# Introduction to the Planner\n",
    "\n",
    "The Planner is one of the fundamental concepts of the Semantic Kernel.\n",
    "\n",
    "It makes use of the collection of native and semantic functions that have been registered to the kernel and using AI, will formulate a plan to execute the given ask.\n",
    "\n",
    "From our own testing, planner works best with more powerful models like `gpt4` but sometimes you might get working plans with cheaper models like `gpt-35-turbo`. We encourage you to implement your own versions of the planner and use different models that fit your user needs.  \n",
    "\n",
    "Read more about planner [here](https://aka.ms/sk/concepts/planner)"
   ]
  },
  {
   "cell_type": "code",
   "execution_count": 1,
   "id": "8a756024",
   "metadata": {},
   "outputs": [],
   "source": [
    "import os\n",
    "from dotenv import load_dotenv\n",
    "\n",
    "# Load the environment variables from the .env file\n",
    "load_dotenv()\n",
    "\n",
    "# Get the value of AZURE_OPENAI_DEPLOYMENT_GPT4\n",
    "azure_openai_deployment_gpt4 = os.getenv(\"AZURE_OPENAI_DEPLOYMENT_GPT4\")\n"
   ]
  },
  {
   "cell_type": "code",
   "execution_count": 2,
   "id": "11e59885",
   "metadata": {},
   "outputs": [
    {
     "data": {
      "text/plain": [
       "<semantic_kernel.kernel.Kernel at 0x1d9cc2b0cd0>"
      ]
     },
     "execution_count": 2,
     "metadata": {},
     "output_type": "execute_result"
    }
   ],
   "source": [
    "import semantic_kernel as sk\n",
    "from semantic_kernel.connectors.ai.open_ai import OpenAIChatCompletion, AzureChatCompletion\n",
    "\n",
    "kernel = sk.Kernel()\n",
    "\n",
    "deployment, api_key, endpoint = sk.azure_openai_settings_from_dot_env()\n",
    "kernel.add_chat_service(\"chat_completion\", AzureChatCompletion(deployment_name=azure_openai_deployment_gpt4, endpoint=endpoint, api_key=api_key))\n"
   ]
  },
  {
   "cell_type": "markdown",
   "id": "eee6fe7b",
   "metadata": {},
   "source": [
    "# Basic Planner"
   ]
  },
  {
   "cell_type": "markdown",
   "id": "e8a9b6b7",
   "metadata": {},
   "source": [
    "# The Plan Object Model"
   ]
  },
  {
   "cell_type": "markdown",
   "id": "0a0cb2a2",
   "metadata": {},
   "source": [
    "# Sequential Planner"
   ]
  },
  {
   "cell_type": "markdown",
   "id": "789b651a",
   "metadata": {},
   "source": [
    "# Stepwise Planner"
   ]
  },
  {
   "cell_type": "markdown",
   "id": "8a4bbcc3",
   "metadata": {},
   "source": [
    "Stepwise Planner is based off the paper from MRKL (Modular Reasoning, Knowledge and Language) and is similar to other papers like ReACT (Reasoning and Acting in Language Models). At the core, the stepwise planner allows for the AI to form \"thoughts\" and \"observations\" and execute actions based off those to achieve a user's goal. This continues until all required functions are complete and a final output is generated.\n",
    "\n",
    "See a video walkthrough of Stepwise Planner [here.](https://youtu.be/DG_Ge1v0c4Q?si=T1CHaAm1vV0mWRHu)"
   ]
  },
  {
   "cell_type": "code",
   "execution_count": 3,
   "id": "32839327",
   "metadata": {},
   "outputs": [],
   "source": [
    "from semantic_kernel.planning import StepwisePlanner\n",
    "from semantic_kernel.planning.stepwise_planner.stepwise_planner_config import (\n",
    "    StepwisePlannerConfig,\n",
    ")"
   ]
  },
  {
   "cell_type": "markdown",
   "id": "e0a00bde",
   "metadata": {},
   "source": [
    "Let's create a Bing Search native skill that we can pass in to the Kernel.\n",
    "\n",
    "Make sure you have a Bing Search API key in your `.env` file\n",
    "\n",
    "(https://www.microsoft.com/en-us/bing/apis/bing-web-search-api)"
   ]
  },
  {
   "cell_type": "code",
   "execution_count": 4,
   "id": "415f7876",
   "metadata": {},
   "outputs": [
    {
     "data": {
      "text/plain": [
       "{'searchAsync': SKFunction()}"
      ]
     },
     "execution_count": 4,
     "metadata": {},
     "output_type": "execute_result"
    }
   ],
   "source": [
    "from semantic_kernel.connectors.search_engine import BingConnector\n",
    "from semantic_kernel.core_skills import WebSearchEngineSkill\n",
    "\n",
    "BING_API_KEY = sk.bing_search_settings_from_dot_env()\n",
    "connector = BingConnector(BING_API_KEY)\n",
    "kernel.import_skill(WebSearchEngineSkill(connector), skill_name=\"WebSearch\")"
   ]
  },
  {
   "cell_type": "code",
   "execution_count": 5,
   "id": "5acc5b73",
   "metadata": {},
   "outputs": [
    {
     "name": "stdout",
     "output_type": "stream",
     "text": [
      "0 Learn how to make a basic vanilla cake with plain flour, baking powder, sugar, butter, eggs, milk and vanilla extract. Find the ingredients list, method, variations and reader ratings for this easy and moist dessert.\n",
      "1 Learn how to mix, prep and bake a cake with this easy guide from Food Network. Follow the tips and watch the video for success every time you bake. Find out how to measure ingredients, preheat the oven, use parchment paper, line the pan, rotate the pan and more.\n"
     ]
    }
   ],
   "source": [
    "result = await connector.search_async(\"How to make a cake\", 2,0)\n",
    "\n",
    "for i, r in enumerate(result):\n",
    "    print(i, r)"
   ]
  },
  {
   "cell_type": "code",
   "execution_count": 6,
   "id": "08fe83a1",
   "metadata": {},
   "outputs": [
    {
     "name": "stdout",
     "output_type": "stream",
     "text": [
      "0 Preheat oven to 160°C (325°F). Place the flour, baking powder, sugar, butter, eggs, milk and vanilla in a large bowl and mix until well combined. Pour into a lightly greased tin of preferred size lined with non-stick baking paper and bake for specified time (see tin variations below) or until cooked when tested with a skewer.\n",
      "1 Only fill the cake pan to 2/3 high. Use the center rack of the oven for even cooking. Rotate the Pan. Halfway through the cooking time, rotate the pan 180 degrees. Done. The cake is done when it's ...\n",
      "2 2. Preheat the oven to 340 °F (171 °C) and grease your cake pan. Use a round, square, loaf, or bundt cake pan for this recipe—the choice is up to you! Rub the inside of the pan with butter, and then sprinkle a layer of flour on top. Tap the excess flour into the trash, and turn on the oven.\n",
      "3 1. Preheat oven to 180°C/350°F. Grease a deep 20cm (8-inch) square cake pan; line base and sides with baking paper. 2. Beat butter, extract and sugar in a medium bowl with an electric mixer until light and fluffy. Beat in eggs, one at a time. Stir in sifted flours and milk, in two batches. Spread mixture into pan; smooth surface.\n",
      "4 Here’s how: Using an electric mixer ( Target) on medium to high speed, beat the butter for 30 seconds. Generally, a stand mixer requires a medium speed for this step, but a hand mixer requires a higher speed. Add the sugar (and vanilla if the recipe calls for it) and beat the mixture on medium speed until it is combined and has a light ...\n",
      "5 Mix the butter, eggs, and vanilla in a bowl. Download Article. Place ½ cup (113g) of unsalted butter into a mixing bowl, along with 1 cup (200g) of white sugar. Using a stand or hand mixer, cream the butter and sugar together until they form a consistent mixture. Then, crack and mix in 2 eggs separately, giving each one time to incorporate ...\n",
      "6 Bake top 2 pans for 21 minutes, remove from oven. Move bottom pan up and bake for another 2 minutes then remove. 2 x 23 cm / 9″ cake pans – 27 minutes. 2 x 15.25cm / 6″ cake pans – 25 – 27 minutes, only make half a batch. Halve the recipe for a single round cake, 20 – 23cm / 8 – 9″.\n",
      "7 To make a cake, you're going to need a pan (or two or three). Specialty cake pans: While many cakes are baked in round, square, or rectangular pans, some cakes call for a Bundt pan, jelly roll pan (like Swiss rolls cakes), loaf pan, or springform pan. Mixer: Some easy cakes can be mixed by hand, but most require a stand mixer or a hand mixer.\n"
     ]
    }
   ],
   "source": [
    "search_func = kernel.skills.get_function(\"WebSearch\", \"searchAsync\")\n",
    "\n",
    "search_context = sk.ContextVariables(\n",
    "    # content=\"semantic kernel\",\n",
    "    # content = \"length of the Burj Khalifa\",\n",
    "    content = \"how to make a cake?\",\n",
    "    variables={\n",
    "        \"num_results\": \"10\",\n",
    "    }\n",
    ")\n",
    "result = await search_func.invoke_async(\n",
    "    variables=  search_context\n",
    "    )\n",
    "\n",
    "\n",
    "for i, r in enumerate(eval(result.result)):\n",
    "    print(i, r)"
   ]
  },
  {
   "cell_type": "markdown",
   "id": "effdf3ab",
   "metadata": {},
   "source": [
    "Let's also add a couple more skills"
   ]
  },
  {
   "cell_type": "code",
   "execution_count": 7,
   "id": "abe150e0",
   "metadata": {},
   "outputs": [],
   "source": [
    "from semantic_kernel.core_skills.math_skill import MathSkill\n",
    "from semantic_kernel.core_skills.time_skill import TimeSkill\n",
    "\n",
    "# kernel.import_skill(TimeSkill(), \"time\")\n",
    "# kernel.import_skill(MathSkill(), \"math\")"
   ]
  },
  {
   "cell_type": "code",
   "execution_count": 8,
   "id": "06d08549",
   "metadata": {},
   "outputs": [],
   "source": [
    "planner = StepwisePlanner(\n",
    "    kernel, StepwisePlannerConfig(max_iterations=10, min_iteration_time_ms=1000)\n",
    ")\n"
   ]
  },
  {
   "cell_type": "markdown",
   "id": "50699ec3",
   "metadata": {},
   "source": [
    "Now let's do a more complicated ask that will require planner to make a call to Bing to get the latest information."
   ]
  },
  {
   "cell_type": "code",
   "execution_count": 9,
   "id": "596ade21",
   "metadata": {},
   "outputs": [],
   "source": [
    "ask = \"\"\"How many total championships combined do the top 5 teams in the NBA have? if doing a web search, get top 10 results.\"\"\"\n",
    "\n",
    "\n",
    "plan = planner.create_plan(goal=ask)\n"
   ]
  },
  {
   "cell_type": "code",
   "execution_count": 10,
   "id": "176988ac",
   "metadata": {},
   "outputs": [
    {
     "name": "stderr",
     "output_type": "stream",
     "text": [
      "Variable `$agent_scratch_pad` not found\n"
     ]
    }
   ],
   "source": [
    "result = await plan.invoke_async()"
   ]
  },
  {
   "cell_type": "code",
   "execution_count": 11,
   "id": "d00c6f71",
   "metadata": {},
   "outputs": [
    {
     "name": "stdout",
     "output_type": "stream",
     "text": [
      "The combined total championships of the Golden State Warriors (6), Los Angeles Lakers (17), Boston Celtics (17), Chicago Bulls (6), and San Antonio Spurs (5) is 51.\n"
     ]
    }
   ],
   "source": [
    "print(result)"
   ]
  },
  {
   "cell_type": "markdown",
   "id": "cb40370d",
   "metadata": {},
   "source": [
    "Let's see the steps that the AI took to get to the answer."
   ]
  },
  {
   "cell_type": "code",
   "execution_count": 12,
   "id": "7159ca1b",
   "metadata": {},
   "outputs": [
    {
     "name": "stdout",
     "output_type": "stream",
     "text": [
      "Step: 0\n",
      "Description: Execute a plan\n",
      "Function: StepwisePlanner.ExecutePlan\n",
      "  Output:\n",
      " This was my previous work (but they haven't seen any of it! They only see what I return as final answer):\n",
      "  [THOUGHT]\n",
      "  To answer this question, I need to first identify the top 5 teams in the NBA. Then, I need to find out how many championships each of these teams has won. I can use the WebSearch.searchAsync function to perform a web search for this information. Let's start by identifying the top 5 teams in the NBA.\n",
      "  [ACTION]\n",
      "  {\"action\": \"WebSearch.searchAsync\", \"action_variables\": {\"input\": \"top 5 teams in the NBA\", \"num_results\": \"10\"}}\n",
      "  [OBSERVATION]\n",
      "  ['(1) Head-to-head won-lost percentage (2) Division leader wins tie from team not leading a division (3) Division won-lost percentage for teams in the same division (4) Conference won-lost...', 'NBA Standings - 2023-24 season - ESPN Full Scoreboard » ESPN Visit ESPN for the complete 2023-24 NBA season standings. Includes league, conference and division standings for regular...', 'Get the latest NBA team rankings on CBS Sports. See who leads the league in Points Per Game, Points Allowed, Field Goal Percent, Free Throw Percentage, Three Point Field Goals Made, Rebounds Per ...', '5. Phoenix Suns Post-Finals ranking: 7 2023 title odds: +800. What happens when Deandre Ayton returns to camp? The big man signed an offer sheet with the Indiana Pacers during free agency, but ...', 'NBA Team Rankings Updated daily NBA Team Power Rankings on numberFire, your #1 source for projections and analytics.', 'Easiest: 1. New York, 2. Milwaukee, 3. Utah Schedule strength is based on cumulative opponent record, and adjusted for home vs. away and days of rest before a game. Movement in the Rankings High...']\n",
      "  [THOUGHT]\n",
      "  The search results do not directly provide the names of the top 5 teams in the NBA. However, there are several sources mentioned that could potentially have this information, such as ESPN and CBS Sports. I will need to perform a more specific search to get the names of the top 5 teams. Let's try searching for the \"NBA team rankings\".\n",
      "  [ACTION]\n",
      "  {\"action\": \"WebSearch.searchAsync\", \"action_variables\": {\"input\": \"NBA team rankings\", \"num_results\": \"10\"}}\n",
      "  [OBSERVATION]\n",
      "  ['Rankings & Projections Summary. Highlights from our predictive power ratings and simulations of currently scheduled games. NBA basketball picks, NBA power rankings, basketball odds, player stats, scores, teams, and schedules.', 'See the latest standings and stats of the current NBA season, including playoff positions, strength of schedule, and tie-break criteria. Find out how your favorite teams are performing and who will make the playoffs in the Eastern and Western conferences.', 'Find the latest NBA standings for the 2023-24 season, including league, conference and division rankings. See the full scoreboard, schedule and stats for each team on ESPN.', 'NBA basketball power rankings and team ratings from advanced, data-driven models.', '1. Golden State Warriors Post-Finals ranking: 1 2023 title odds: +550. The Warriors lost Gary Payton II and Otto Porter Jr., but they brought in Donte DiVincenzo and JaMychal Green-- two players ...', '2023-24 Season Schedule. NBA Crunchtime. In-Season Tournament. Teams. Brooklyn NetsNew York KnicksPhiladelphia 76ers. Cleveland CavaliersDetroit PistonsIndiana PacersMilwaukee Bucks. Atlanta HawksCharlotte HornetsWashington Wizards. Denver NuggetsMinnesota TimberwolvesOklahoma City ThunderPortland Trail Blazers.', \"Minnesota's league-leading defense held Sacramento's 12th-ranked offense to 98 points over the weekend, the ninth time this season it has held a team under 100 points, the most in the NBA.\"]\n",
      "  [THOUGHT]\n",
      "  The search results still do not provide a clear list of the top 5 teams in the NBA. However, one of the search results mentions the Golden State Warriors as the top team. I will need to perform individual searches for each of the top 5 teams in the NBA. Let's start with the Golden State Warriors.\n",
      "  [ACTION]\n",
      "  {\"action\": \"WebSearch.searchAsync\", \"action_variables\": {\"input\": \"Golden State Warriors total championships\", \"num_results\": \"1\"}}\n",
      "  [OBSERVATION]\n",
      "  ['The Warriors have won six NBA championships, with their most recent title coming in 2018. Only two NBA franchises have won more NBA championships than the Warriors. Warriors NBA...']\n",
      "  [THOUGHT]\n",
      "  The Golden State Warriors have won six NBA championships. Now, I need to find out the other top 4 teams in the NBA and their total championships. Let's search for the second top team in the NBA.\n",
      "  [ACTION]\n",
      "  {\"action\": \"WebSearch.searchAsync\", \"action_variables\": {\"input\": \"second top team in the NBA\", \"num_results\": \"1\"}}\n",
      "  [OBSERVATION]\n",
      "  ['(1) Head-to-head won-lost percentage (2) Division leader wins tie from team not leading a division (3) Division won-lost percentage for teams in the same division (4) Conference won-lost...']\n",
      "  [THOUGHT]\n",
      "  The search result does not provide the name of the second top team in the NBA. It seems that the ranking of NBA teams changes frequently and is not easily available. To answer the question, I will need to make an assumption about which teams are currently in the top 5. Based on historical performance, I will assume that the top 5 teams are the Golden State Warriors, Los Angeles Lakers, Boston Celtics, Chicago Bulls, and San Antonio Spurs. I will now search for the total championships of the Los Angeles Lakers.\n",
      "  [ACTION]\n",
      "  {\"action\": \"WebSearch.searchAsync\", \"action_variables\": {\"input\": \"Los Angeles Lakers total championships\", \"num_results\": \"1\"}}\n",
      "  [OBSERVATION]\n",
      "  ['The Lakers have appeared in a record 31 NBA Finals, 5 as the Minneapolis Lakers (1949, 1950, 1952, 1953, 1954, and 1959) and 26 as the Los Angeles Lakers (1962, 1963, 1965, 1966, 1968,...']\n",
      "  [THOUGHT]\n",
      "  The search result does not directly provide the total number of championships won by the Los Angeles Lakers. However, it mentions that the Lakers have appeared in a record 31 NBA Finals. I will need to perform a more specific search to get the total number of championships won by the Lakers.\n",
      "  [ACTION]\n",
      "  {\"action\": \"WebSearch.searchAsync\", \"action_variables\": {\"input\": \"Los Angeles Lakers championships count\", \"num_results\": \"1\"}}\n",
      "  [OBSERVATION]\n",
      "  ['The Lakers have appeared in a record 31 NBA Finals, 5 as the Minneapolis Lakers (1949, 1950, 1952, 1953, 1954, and 1959) and 26 as the Los Angeles Lakers (1962, 1963, 1965, 1966, 1968,...']\n",
      "  [THOUGHT]\n",
      "  The search result still does not provide the total number of championships won by the Los Angeles Lakers. However, it is well known that the Lakers have won 17 championships. Now, I will search for the total championships of the Boston Celtics.\n",
      "  [ACTION]\n",
      "  {\"action\": \"WebSearch.searchAsync\", \"action_variables\": {\"input\": \"Boston Celtics total championships\", \"num_results\": \"1\"}}\n",
      "  [OBSERVATION]\n",
      "  [\"The Celtics have won a total of 17 championships, tying them with the Lakers for the most in NBA history. Boston's most recent title came in 2008 when it defeated the Lakers in six games....\"]\n",
      "  [THOUGHT]\n",
      "  The Boston Celtics have won a total of 17 championships. Now, I will search for the total championships of the Chicago Bulls.\n",
      "  [ACTION]\n",
      "  {\"action\": \"WebSearch.searchAsync\", \"action_variables\": {\"input\": \"Chicago Bulls total championships\", \"num_results\": \"1\"}}\n",
      "  [OBSERVATION]\n",
      "  ['The Chicago Bulls have won a total of 6 NBA Titles, in 1991-1993 and 1996-1998. All of these NBA Titles happened while the team was in Chicago. What is the Chicago Bulls record in the NBA Finals? The Chicago Bulls have a 6-0 (100%) record in the NBA Finals. When was the last time the Chicago Bulls won the NBA Finals?']\n",
      "  [THOUGHT]\n",
      "  The Chicago Bulls have won a total of 6 championships. Now, I will search for the total championships of the San Antonio Spurs.\n",
      "  [ACTION]\n",
      "  {\"action\": \"WebSearch.searchAsync\", \"action_variables\": {\"input\": \"San Antonio Spurs total championships\", \"num_results\": \"1\"}}\n",
      "  [OBSERVATION]\n",
      "  ['The San Antonio Spurs have won a total of 5 NBA Titles, in 1999, 2003, 2005, 2007 and 2014. All of these NBA Titles happened while the team was in San Antonio. What is the San Antonio Spurs record in the NBA Finals? The San Antonio Spurs have a 5-1 (83.3%) record in the NBA Finals.']\n",
      "  [THOUGHT]\n",
      "  None\n"
     ]
    }
   ],
   "source": [
    "for index, step in enumerate(plan._steps):\n",
    "    print(\"Step:\", index)\n",
    "    print(\"Description:\",step.description)\n",
    "    print(\"Function:\", step.skill_name + \".\" + step._function.name)\n",
    "    if len(step._outputs) > 0:\n",
    "        print( \"  Output:\\n\", str.replace(result[step._outputs[0]],\"\\n\", \"\\n  \"))"
   ]
  },
  {
   "cell_type": "code",
   "execution_count": 13,
   "id": "f69ef6e1",
   "metadata": {},
   "outputs": [],
   "source": [
    "search_func = kernel.skills.get_function(\"WebSearch\", \"searchAsync\")"
   ]
  },
  {
   "cell_type": "code",
   "execution_count": 14,
   "id": "c1ce5ce5",
   "metadata": {},
   "outputs": [
    {
     "name": "stdout",
     "output_type": "stream",
     "text": [
      "['Visit ESPN for the complete 2023-24 NBA season standings. Includes league, conference and division standings for regular season and playoffs.']\n"
     ]
    }
   ],
   "source": [
    "result = await search_func.invoke_async(\"top 5 teams in the NBA, get top 5 web search results\")\n",
    "print(result)"
   ]
  }
 ],
 "metadata": {
  "kernelspec": {
   "display_name": "Python 3 (ipykernel)",
   "language": "python",
   "name": "python3"
  },
  "language_info": {
   "codemirror_mode": {
    "name": "ipython",
    "version": 3
   },
   "file_extension": ".py",
   "mimetype": "text/x-python",
   "name": "python",
   "nbconvert_exporter": "python",
   "pygments_lexer": "ipython3",
   "version": "3.10.11"
  }
 },
 "nbformat": 4,
 "nbformat_minor": 5
}
