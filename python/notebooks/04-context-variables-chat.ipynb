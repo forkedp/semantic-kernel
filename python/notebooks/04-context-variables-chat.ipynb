{
 "cells": [
  {
   "attachments": {},
   "cell_type": "markdown",
   "id": "fde98ddf",
   "metadata": {},
   "source": [
    "# Creating a basic chat experience with context variables\n",
    "\n",
    "In this example, we show how you can build a simple chat bot by sending and updating context with your requests. \n",
    "\n",
    "We introduce the Context Variables object which in this demo functions similarly as a key-value store that you can use when running the kernel.\n",
    "\n",
    "The context is local (i.e. in your computer's RAM) and not persisted anywhere beyond the life of this Jupyter session.\n",
    "\n",
    "In future examples, we will show how to persist the context on disk so that you can bring it into your applications.  \n",
    "\n",
    "In this chat scenario, as the user talks back and forth with the bot, the context gets populated with the history of the conversation. During each new run of the kernel, the context can provide the AI with its variables' content. "
   ]
  },
  {
   "cell_type": "code",
   "execution_count": null,
   "id": "92f69b34",
   "metadata": {},
   "outputs": [],
   "source": [
    "# !python -m pip install semantic-kernel==0.4.3.dev0"
   ]
  },
  {
   "cell_type": "code",
   "execution_count": 1,
   "id": "68301108",
   "metadata": {},
   "outputs": [],
   "source": [
    "import semantic_kernel as sk\n",
    "from semantic_kernel.connectors.ai.open_ai import AzureChatCompletion, OpenAIChatCompletion\n",
    "\n",
    "kernel = sk.Kernel()\n",
    "\n",
    "useAzureOpenAI = True\n",
    "\n",
    "# Configure AI service used by the kernel\n",
    "if useAzureOpenAI:\n",
    "    deployment, api_key, endpoint = sk.azure_openai_settings_from_dot_env()\n",
    "    kernel.add_chat_service(\"chat_completion\", AzureChatCompletion(deployment_name=deployment, endpoint=endpoint, api_key=api_key))\n",
    "else:\n",
    "    api_key, org_id = sk.openai_settings_from_dot_env()\n",
    "    kernel.add_chat_service(\"gpt-3.5\", OpenAIChatCompletion(ai_model_id=\"gpt-3.5-turbo\", api_key=api_key, org_id=org_id))\n"
   ]
  },
  {
   "attachments": {},
   "cell_type": "markdown",
   "id": "7971783d",
   "metadata": {},
   "source": [
    "Let's define a prompt outlining a dialogue chat bot."
   ]
  },
  {
   "cell_type": "code",
   "execution_count": 3,
   "id": "e84a05fc",
   "metadata": {},
   "outputs": [],
   "source": [
    "sk_prompt = \"\"\"\n",
    "ChatBot can have a conversation with you about any topic.\n",
    "It can give explicit instructions or say 'I don't know' if it does not have an answer.\n",
    "\n",
    "{{$history}}\n",
    "User: {{$user_input}}\n",
    "ChatBot: \"\"\""
   ]
  },
  {
   "attachments": {},
   "cell_type": "markdown",
   "id": "61716b16",
   "metadata": {},
   "source": [
    "Register your semantic function"
   ]
  },
  {
   "cell_type": "code",
   "execution_count": 4,
   "id": "a3e4b160",
   "metadata": {},
   "outputs": [],
   "source": [
    "chat_function = kernel.create_semantic_function(\n",
    "    prompt_template=sk_prompt,\n",
    "    function_name=\"ChatBot\",\n",
    "    max_tokens=2000,\n",
    "    temperature=0.7,\n",
    "    top_p=0.5)"
   ]
  },
  {
   "attachments": {},
   "cell_type": "markdown",
   "id": "6e8a676f",
   "metadata": {},
   "source": [
    "Initialize your context"
   ]
  },
  {
   "cell_type": "code",
   "execution_count": 5,
   "id": "a4be7394",
   "metadata": {},
   "outputs": [],
   "source": [
    "context = kernel.create_new_context()\n",
    "context[\"history\"] = \"\""
   ]
  },
  {
   "cell_type": "code",
   "execution_count": 20,
   "id": "41d07876",
   "metadata": {},
   "outputs": [],
   "source": [
    "\n",
    "\n",
    "def print_formatted_json(context):\n",
    "    import json\n",
    "    formatted_json = json.loads(context.model_dump_json())\n",
    "    print(json.dumps(formatted_json, indent=4))\n",
    "\n"
   ]
  },
  {
   "cell_type": "code",
   "execution_count": 21,
   "id": "3fd7c630",
   "metadata": {},
   "outputs": [
    {
     "name": "stdout",
     "output_type": "stream",
     "text": [
      "{\n",
      "    \"memory\": {},\n",
      "    \"variables\": {\n",
      "        \"variables\": {\n",
      "            \"input\": \"\",\n",
      "            \"history\": \"\"\n",
      "        }\n",
      "    },\n",
      "    \"skill_collection\": {\n",
      "        \"data\": {\n",
      "            \"_global_functions_\": {\n",
      "                \"chatbot\": {}\n",
      "            }\n",
      "        }\n",
      "    }\n",
      "}\n"
     ]
    }
   ],
   "source": [
    "print_formatted_json(context=context)"
   ]
  },
  {
   "attachments": {},
   "cell_type": "markdown",
   "id": "4ce7c497",
   "metadata": {},
   "source": [
    "Chat with the Bot"
   ]
  },
  {
   "cell_type": "code",
   "execution_count": 22,
   "id": "5ec41eb8",
   "metadata": {},
   "outputs": [
    {
     "name": "stderr",
     "output_type": "stream",
     "text": [
      "Variable `$history` not found\n"
     ]
    },
    {
     "name": "stdout",
     "output_type": "stream",
     "text": [
      "Hi! I'd be happy to help you with book suggestions. What genre or type of books are you interested in?\n",
      "{\n",
      "    \"memory\": {},\n",
      "    \"variables\": {\n",
      "        \"variables\": {\n",
      "            \"input\": \"Hi! I'd be happy to help you with book suggestions. What genre or type of books are you interested in?\",\n",
      "            \"history\": \"\",\n",
      "            \"user_input\": \"Hi, I'm looking for book suggestions\"\n",
      "        }\n",
      "    },\n",
      "    \"skill_collection\": {\n",
      "        \"data\": {\n",
      "            \"_global_functions_\": {\n",
      "                \"chatbot\": {}\n",
      "            }\n",
      "        }\n",
      "    }\n",
      "}\n"
     ]
    }
   ],
   "source": [
    "context[\"user_input\"] = \"Hi, I'm looking for book suggestions\"\n",
    "bot_answer = await chat_function.invoke_async(context=context)\n",
    "print(bot_answer)\n",
    "print_formatted_json(context=context)"
   ]
  },
  {
   "attachments": {},
   "cell_type": "markdown",
   "id": "a5b03748",
   "metadata": {},
   "source": [
    "Update the history with the output"
   ]
  },
  {
   "cell_type": "code",
   "execution_count": 23,
   "id": "f50f517d",
   "metadata": {},
   "outputs": [
    {
     "name": "stdout",
     "output_type": "stream",
     "text": [
      "\n",
      "User: Hi, I'm looking for book suggestions\n",
      "ChatBot: Hi! I'd be happy to help you with book suggestions. What genre or type of books are you interested in?\n",
      "\n"
     ]
    }
   ],
   "source": [
    "context[\"history\"] += f\"\\nUser: {context['user_input']}\\nChatBot: {bot_answer}\\n\"\n",
    "print(context[\"history\"])"
   ]
  },
  {
   "attachments": {},
   "cell_type": "markdown",
   "id": "23a2eb02",
   "metadata": {},
   "source": [
    "Keep Chatting!"
   ]
  },
  {
   "cell_type": "code",
   "execution_count": 24,
   "id": "7af3a80f",
   "metadata": {},
   "outputs": [
    {
     "name": "stdout",
     "output_type": "stream",
     "text": [
      "{\n",
      "    \"memory\": {},\n",
      "    \"variables\": {\n",
      "        \"variables\": {\n",
      "            \"input\": \"Hi! I'd be happy to help you with book suggestions. What genre or type of books are you interested in?\",\n",
      "            \"history\": \"\\nUser: Hi, I'm looking for book suggestions\\nChatBot: Hi! I'd be happy to help you with book suggestions. What genre or type of books are you interested in?\\n\",\n",
      "            \"user_input\": \"Hi, I'm looking for book suggestions\"\n",
      "        }\n",
      "    },\n",
      "    \"skill_collection\": {\n",
      "        \"data\": {\n",
      "            \"_global_functions_\": {\n",
      "                \"chatbot\": {}\n",
      "            }\n",
      "        }\n",
      "    }\n",
      "}\n"
     ]
    }
   ],
   "source": [
    "print_formatted_json(context=context)"
   ]
  },
  {
   "cell_type": "code",
   "execution_count": 3,
   "id": "c59efe45",
   "metadata": {},
   "outputs": [],
   "source": [
    "async def chat(input_text: str) -> None:\n",
    "    # Save new message in the context variables\n",
    "    print(f\"User: {input_text}\")\n",
    "    context[\"user_input\"] = input_text\n",
    "\n",
    "    # Process the user message and get an answer\n",
    "    answer = await chat_function.invoke_async(context=context)\n",
    "\n",
    "    # Show the response\n",
    "    print(f\"ChatBot: {answer}\")\n",
    "\n",
    "    # Append the new interaction to the chat history\n",
    "    context[\"history\"] += f\"\\nUser: {input_text}\\nChatBot: {answer}\\n\""
   ]
  },
  {
   "cell_type": "code",
   "execution_count": 26,
   "id": "06ee244e",
   "metadata": {},
   "outputs": [
    {
     "name": "stdout",
     "output_type": "stream",
     "text": [
      "User: I love history and philosophy, I'd like to learn something new about Greece, any suggestion?\n",
      "ChatBot: I would recommend \"The Histories\" by Herodotus. It is considered one of the earliest works of history and provides a detailed account of ancient Greece, including the Persian Wars. Another great book is \"The Republic\" by Plato, which explores various philosophical ideas and includes discussions on justice, politics, and the ideal society.\n"
     ]
    }
   ],
   "source": [
    "await chat(\"I love history and philosophy, I'd like to learn something new about Greece, any suggestion?\")"
   ]
  },
  {
   "cell_type": "code",
   "execution_count": 27,
   "id": "82be4e7e",
   "metadata": {},
   "outputs": [
    {
     "name": "stdout",
     "output_type": "stream",
     "text": [
      "User: that sounds interesting, what is it about?\n",
      "ChatBot: \"The Histories\" by Herodotus is a historical account of the Persian Wars and the events leading up to it. It covers various aspects of ancient Greek society, including their customs, traditions, and political systems. It also includes stories and anecdotes about famous figures such as King Leonidas of Sparta and the Battle of Thermopylae. \n",
      "\n",
      "\"The Republic\" by Plato is a philosophical work that explores the concept of justice and the ideal society. It presents a dialogue between Socrates and various other characters, discussing topics such as the nature of justice, the role of the philosopher, and the different forms of government. It also delves into the concept of the \"philosopher king\" and the importance of education in shaping a just society.\n"
     ]
    }
   ],
   "source": [
    "await chat(\"that sounds interesting, what is it about?\")"
   ]
  },
  {
   "cell_type": "code",
   "execution_count": 28,
   "id": "82fe0139",
   "metadata": {},
   "outputs": [
    {
     "name": "stdout",
     "output_type": "stream",
     "text": [
      "User: if I read that book, what exactly will I learn about Greek history?\n",
      "ChatBot: If you read \"The Histories\" by Herodotus, you will learn about various aspects of Greek history, particularly the Persian Wars. You will gain insights into the political systems, customs, and traditions of ancient Greece. You will also learn about significant events such as the Battle of Marathon, the Battle of Thermopylae, and the Battle of Salamis. Additionally, you will learn about the interactions between the Greeks and the Persians, as well as the cultural and societal differences between the two civilizations.\n",
      "\n",
      "It's important to note that while \"The Histories\" provides valuable historical information, it is also known for including some mythical and exaggerated elements. However, it still remains a significant source for understanding ancient Greek history.\n"
     ]
    }
   ],
   "source": [
    "await chat(\"if I read that book, what exactly will I learn about Greek history?\")"
   ]
  },
  {
   "cell_type": "code",
   "execution_count": 29,
   "id": "55b3a9f2",
   "metadata": {},
   "outputs": [
    {
     "name": "stdout",
     "output_type": "stream",
     "text": [
      "User: could you list some more books I could read about this topic?\n",
      "ChatBot: Certainly! Here are some more books you could consider reading about Greek history:\n",
      "\n",
      "1. \"The Peloponnesian War\" by Thucydides - This book provides a detailed account of the Peloponnesian War between Athens and Sparta, offering insights into the political and military strategies of the time.\n",
      "\n",
      "2. \"The Greek Way\" by Edith Hamilton - This book explores the cultural and intellectual achievements of ancient Greece, including their philosophy, literature, and art.\n",
      "\n",
      "3. \"The Greek World 479-323 BC\" by Simon Hornblower - This book provides a comprehensive overview of the political, social, and cultural developments in Greece during the Classical period.\n",
      "\n",
      "4. \"The Rise and Fall of Athens: Nine Greek Lives\" by Plutarch - This book offers biographies of nine influential figures in ancient Greece, including Pericles, Themistocles, and Alcibiades, providing insights into the political and military history of Athens.\n",
      "\n",
      "5. \"Ancient Greece: A Political, Social, and Cultural History\" by Sarah B. Pomeroy - This book provides a comprehensive overview of ancient Greek history, covering various aspects of Greek society, including politics, religion, and daily life.\n",
      "\n",
      "These books should provide you with a deeper understanding of Greek history and culture.\n"
     ]
    }
   ],
   "source": [
    "await chat(\"could you list some more books I could read about this topic?\")"
   ]
  },
  {
   "attachments": {},
   "cell_type": "markdown",
   "id": "c30bac97",
   "metadata": {},
   "source": [
    "After chatting for a while, we have built a growing history, which we are attaching to each prompt and which contains the full conversation. Let's take a look!"
   ]
  },
  {
   "cell_type": "code",
   "execution_count": 30,
   "id": "5e34ae55",
   "metadata": {},
   "outputs": [
    {
     "name": "stdout",
     "output_type": "stream",
     "text": [
      "\n",
      "User: Hi, I'm looking for book suggestions\n",
      "ChatBot: Hi! I'd be happy to help you with book suggestions. What genre or type of books are you interested in?\n",
      "\n",
      "User: I love history and philosophy, I'd like to learn something new about Greece, any suggestion?\n",
      "ChatBot: I would recommend \"The Histories\" by Herodotus. It is considered one of the earliest works of history and provides a detailed account of ancient Greece, including the Persian Wars. Another great book is \"The Republic\" by Plato, which explores various philosophical ideas and includes discussions on justice, politics, and the ideal society.\n",
      "\n",
      "User: that sounds interesting, what is it about?\n",
      "ChatBot: \"The Histories\" by Herodotus is a historical account of the Persian Wars and the events leading up to it. It covers various aspects of ancient Greek society, including their customs, traditions, and political systems. It also includes stories and anecdotes about famous figures such as King Leonidas of Sparta and the Battle of Thermopylae. \n",
      "\n",
      "\"The Republic\" by Plato is a philosophical work that explores the concept of justice and the ideal society. It presents a dialogue between Socrates and various other characters, discussing topics such as the nature of justice, the role of the philosopher, and the different forms of government. It also delves into the concept of the \"philosopher king\" and the importance of education in shaping a just society.\n",
      "\n",
      "User: if I read that book, what exactly will I learn about Greek history?\n",
      "ChatBot: If you read \"The Histories\" by Herodotus, you will learn about various aspects of Greek history, particularly the Persian Wars. You will gain insights into the political systems, customs, and traditions of ancient Greece. You will also learn about significant events such as the Battle of Marathon, the Battle of Thermopylae, and the Battle of Salamis. Additionally, you will learn about the interactions between the Greeks and the Persians, as well as the cultural and societal differences between the two civilizations.\n",
      "\n",
      "It's important to note that while \"The Histories\" provides valuable historical information, it is also known for including some mythical and exaggerated elements. However, it still remains a significant source for understanding ancient Greek history.\n",
      "\n",
      "User: could you list some more books I could read about this topic?\n",
      "ChatBot: Certainly! Here are some more books you could consider reading about Greek history:\n",
      "\n",
      "1. \"The Peloponnesian War\" by Thucydides - This book provides a detailed account of the Peloponnesian War between Athens and Sparta, offering insights into the political and military strategies of the time.\n",
      "\n",
      "2. \"The Greek Way\" by Edith Hamilton - This book explores the cultural and intellectual achievements of ancient Greece, including their philosophy, literature, and art.\n",
      "\n",
      "3. \"The Greek World 479-323 BC\" by Simon Hornblower - This book provides a comprehensive overview of the political, social, and cultural developments in Greece during the Classical period.\n",
      "\n",
      "4. \"The Rise and Fall of Athens: Nine Greek Lives\" by Plutarch - This book offers biographies of nine influential figures in ancient Greece, including Pericles, Themistocles, and Alcibiades, providing insights into the political and military history of Athens.\n",
      "\n",
      "5. \"Ancient Greece: A Political, Social, and Cultural History\" by Sarah B. Pomeroy - This book provides a comprehensive overview of ancient Greek history, covering various aspects of Greek society, including politics, religion, and daily life.\n",
      "\n",
      "These books should provide you with a deeper understanding of Greek history and culture.\n",
      "\n"
     ]
    }
   ],
   "source": [
    "print(context[\"history\"])"
   ]
  },
  {
   "cell_type": "code",
   "execution_count": 7,
   "id": "73845741",
   "metadata": {},
   "outputs": [
    {
     "name": "stderr",
     "output_type": "stream",
     "text": [
      "Variable `$history` not found\n"
     ]
    },
    {
     "name": "stdout",
     "output_type": "stream",
     "text": [
      "User: Hello\n",
      "ChatBot: Hi there! How can I assist you today?\n",
      "User: What is fun today? \n",
      "ChatBot: There are many fun things you can do today! You could go for a walk in the park, watch a movie, read a book, try a new recipe, or even learn a new hobby. It all depends on what you enjoy doing!\n",
      "User: Bye\n",
      "ChatBot: Goodbye! Have a great day!\n",
      "User: bye\n",
      "ChatBot: Goodbye! Take care!\n"
     ]
    }
   ],
   "source": [
    "import semantic_kernel as sk\n",
    "from semantic_kernel.connectors.ai.open_ai import AzureChatCompletion, OpenAIChatCompletion\n",
    "from semantic_kernel.orchestration.sk_context import SKContext\n",
    "\n",
    "kernel = sk.Kernel()\n",
    "\n",
    "deployment, api_key, endpoint = sk.azure_openai_settings_from_dot_env()\n",
    "kernel.add_chat_service(\n",
    "    \"chat_completion\",\n",
    "    AzureChatCompletion(\n",
    "        deployment_name=deployment,\n",
    "        endpoint=endpoint,\n",
    "        api_key=api_key\n",
    "        )\n",
    "    )\n",
    "\n",
    "sk_prompt = \"\"\"\n",
    "ChatBot can have a conversation with you about any topic.\n",
    "It can give explicit instructions or say 'I don't know' if it does not have an answer.\n",
    "\n",
    "{{$history}}\n",
    "User: {{$user_input}}\n",
    "ChatBot: \"\"\"\n",
    "\n",
    "chat_function = kernel.create_semantic_function(\n",
    "    prompt_template=sk_prompt,\n",
    "    function_name=\"ChatBot\",\n",
    "    max_tokens=2000,\n",
    "    temperature=0.7,\n",
    "    top_p=0.5)\n",
    "\n",
    "\n",
    "async def chat(input_text: str) -> None:\n",
    "    # Save new message in the context variables\n",
    "    print(f\"User: {input_text}\")\n",
    "    context[\"user_input\"] = input_text\n",
    "\n",
    "    # Process the user message and get an answer\n",
    "    answer = await chat_function.invoke_async(context=context)\n",
    "\n",
    "    # Show the response\n",
    "    print(f\"ChatBot: {answer}\")\n",
    "\n",
    "    # Append the new interaction to the chat history\n",
    "    context[\"history\"] += f\"\\nUser: {input_text}\\nChatBot: {answer}\\n\"\n",
    "\n",
    "\n",
    "context = kernel.create_new_context()\n",
    "context[\"history\"] = \"\"\n",
    "while(True):\n",
    "    input_text = input(\"User: \")\n",
    "    await chat(input_text)\n",
    "    if input_text == \"bye\":\n",
    "        break\n"
   ]
  },
  {
   "cell_type": "code",
   "execution_count": null,
   "id": "843daa63",
   "metadata": {},
   "outputs": [],
   "source": []
  }
 ],
 "metadata": {
  "kernelspec": {
   "display_name": "Python 3 (ipykernel)",
   "language": "python",
   "name": "python3"
  },
  "language_info": {
   "codemirror_mode": {
    "name": "ipython",
    "version": 3
   },
   "file_extension": ".py",
   "mimetype": "text/x-python",
   "name": "python",
   "nbconvert_exporter": "python",
   "pygments_lexer": "ipython3",
   "version": "3.10.11"
  }
 },
 "nbformat": 4,
 "nbformat_minor": 5
}
